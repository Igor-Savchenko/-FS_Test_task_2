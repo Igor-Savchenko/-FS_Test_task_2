{
  "nbformat": 4,
  "nbformat_minor": 0,
  "metadata": {
    "colab": {
      "name": "FS_test_task_2.ipynb",
      "provenance": [],
      "collapsed_sections": [],
      "authorship_tag": "ABX9TyPtslvPl+8Yub5bDcrdHwQJ",
      "include_colab_link": true
    },
    "kernelspec": {
      "name": "python3",
      "display_name": "Python 3"
    },
    "accelerator": "GPU"
  },
  "cells": [
    {
      "cell_type": "markdown",
      "metadata": {
        "id": "view-in-github",
        "colab_type": "text"
      },
      "source": [
        "<a href=\"https://colab.research.google.com/github/Igor-Savchenko/FS_Test_task_2/blob/master/FS_test_task_2.ipynb\" target=\"_parent\"><img src=\"https://colab.research.google.com/assets/colab-badge.svg\" alt=\"Open In Colab\"/></a>"
      ]
    },
    {
      "cell_type": "markdown",
      "metadata": {
        "id": "w8nqK7I5Is5Y",
        "colab_type": "text"
      },
      "source": [
        "**Задача 2.** Напишите, какие вы знаете способы борьбы с несбалансированными классами и почему с ними нужно бороться, какие метрики вы будете использовать при оценке результатов. На примере датасета https://www.kaggle.com/mlg-ulb/creditcardfraud продемонстрируйте, как применять описанные вами методы и как они сказываются на результатах работы алгоритмов классификации.\n",
        "\n",
        "**Намек на способ решения.** На самом деле это не сложные задания и весь материал для их выполнения есть на поверхности в интернете."
      ]
    },
    {
      "cell_type": "markdown",
      "metadata": {
        "id": "w5P_5LrqHidL",
        "colab_type": "text"
      },
      "source": [
        "**Что такое несбалансированные классы, и почему с ними нужно бороться.**\n",
        "\n",
        "Насколько я понял, речь идет всё-таки о несбалансированных выборках (наборах данных). **Несбалансированным набором данных (Imbalanced data)** - называется такой набор классифицируемых данных в которыом присутствует существенный дисбаланс в количестве элементов принадлежащих разным классам. Далее все рассуждения будут для случая двухклассовой классификации, они могут быть масштабированы на случай многоклассовой классификации, но рассуждение о проблеме в общем виде сильно увеличит обьем пояснений, и усложнит понимание. \n",
        "Согласно https://developers.google.com/machine-learning/data-prep/construct/sampling-splitting/imbalanced-data, классы, элементы которых составляют большую часть набора данных, принято называть мажоритарными, а элементы которых составляют меньшую часть, миноритарными. Степень несбалансированности набора данных предлагается оценивать следующим обрзом: малая 20-40%, средняя 1-20%, высокая <1% данных в миноритарном классе. В сильно несбалансированных выборках классификаторы могут настраиватся на объекты мажоритарного класса (когда высокую точность классификатора можно получить, не выделяя объекты миноритарного класса), в то время как во многих задачах, включая задачу обнаружения мошеннических транзакций, интерес представляют объекты миноритарного класса (мошеннические транзакции).\n",
        "\n",
        "Загрузим предложенный датасет  https://www.kaggle.com/mlg-ulb/creditcardfraud и попробуем понять какие данные в нем содержаться, и почему они несбалансированны."
      ]
    },
    {
      "cell_type": "code",
      "metadata": {
        "id": "0JGVF-ZMyAHY",
        "colab_type": "code",
        "outputId": "e81b1c40-3d14-48d1-dee7-249fea6b7caa",
        "colab": {
          "base_uri": "https://localhost:8080/",
          "height": 122
        }
      },
      "source": [
        "# Для экономии времени на настройке окружения и установке пакетов\n",
        "# настоящий блокнот создавался в https://colab.research.google.com/\n",
        "\n",
        "# Прошу прощения за комментарии на русском, но посколку это тестовая задачка\n",
        "# и не подразумевает поддержки, я позволил себе писать их именно так, я быстрее \n",
        "# формулирую мысли именно на русском, к тому же текстовая часть блокнота тоже \n",
        "# написана на этом языке. Учитывая географическое положение компании, искренне \n",
        "# надеюсь что у проверяющего не возникнет трудностей при проверке.\n",
        "\n",
        "# Подключим colab к drive.Google \n",
        "# Так чуть медленнее чем коннектится к Kaggle, но гораздо меньше писать\n",
        "from google.colab import drive\n",
        "drive.mount('/content/drive')"
      ],
      "execution_count": 0,
      "outputs": [
        {
          "output_type": "stream",
          "text": [
            "Go to this URL in a browser: https://accounts.google.com/o/oauth2/auth?client_id=947318989803-6bn6qk8qdgf4n4g3pfee6491hc0brc4i.apps.googleusercontent.com&redirect_uri=urn%3aietf%3awg%3aoauth%3a2.0%3aoob&response_type=code&scope=email%20https%3a%2f%2fwww.googleapis.com%2fauth%2fdocs.test%20https%3a%2f%2fwww.googleapis.com%2fauth%2fdrive%20https%3a%2f%2fwww.googleapis.com%2fauth%2fdrive.photos.readonly%20https%3a%2f%2fwww.googleapis.com%2fauth%2fpeopleapi.readonly\n",
            "\n",
            "Enter your authorization code:\n",
            "··········\n",
            "Mounted at /content/drive\n"
          ],
          "name": "stdout"
        }
      ]
    },
    {
      "cell_type": "code",
      "metadata": {
        "id": "S4AE05yqrzvo",
        "colab_type": "code",
        "outputId": "2a3dd68b-e24e-48c6-c484-7f7e5b3b9afb",
        "colab": {
          "base_uri": "https://localhost:8080/",
          "height": 224
        }
      },
      "source": [
        "# Поместим данные в датафрейм, и посмотрим на них \n",
        "import pandas as pd \n",
        "\n",
        "df = pd.read_csv('/content/drive/My Drive/creditcard.csv')\n",
        "df.head()"
      ],
      "execution_count": 0,
      "outputs": [
        {
          "output_type": "execute_result",
          "data": {
            "text/html": [
              "<div>\n",
              "<style scoped>\n",
              "    .dataframe tbody tr th:only-of-type {\n",
              "        vertical-align: middle;\n",
              "    }\n",
              "\n",
              "    .dataframe tbody tr th {\n",
              "        vertical-align: top;\n",
              "    }\n",
              "\n",
              "    .dataframe thead th {\n",
              "        text-align: right;\n",
              "    }\n",
              "</style>\n",
              "<table border=\"1\" class=\"dataframe\">\n",
              "  <thead>\n",
              "    <tr style=\"text-align: right;\">\n",
              "      <th></th>\n",
              "      <th>Time</th>\n",
              "      <th>V1</th>\n",
              "      <th>V2</th>\n",
              "      <th>V3</th>\n",
              "      <th>V4</th>\n",
              "      <th>V5</th>\n",
              "      <th>V6</th>\n",
              "      <th>V7</th>\n",
              "      <th>V8</th>\n",
              "      <th>V9</th>\n",
              "      <th>V10</th>\n",
              "      <th>V11</th>\n",
              "      <th>V12</th>\n",
              "      <th>V13</th>\n",
              "      <th>V14</th>\n",
              "      <th>V15</th>\n",
              "      <th>V16</th>\n",
              "      <th>V17</th>\n",
              "      <th>V18</th>\n",
              "      <th>V19</th>\n",
              "      <th>V20</th>\n",
              "      <th>V21</th>\n",
              "      <th>V22</th>\n",
              "      <th>V23</th>\n",
              "      <th>V24</th>\n",
              "      <th>V25</th>\n",
              "      <th>V26</th>\n",
              "      <th>V27</th>\n",
              "      <th>V28</th>\n",
              "      <th>Amount</th>\n",
              "      <th>Class</th>\n",
              "    </tr>\n",
              "  </thead>\n",
              "  <tbody>\n",
              "    <tr>\n",
              "      <th>0</th>\n",
              "      <td>0.0</td>\n",
              "      <td>-1.359807</td>\n",
              "      <td>-0.072781</td>\n",
              "      <td>2.536347</td>\n",
              "      <td>1.378155</td>\n",
              "      <td>-0.338321</td>\n",
              "      <td>0.462388</td>\n",
              "      <td>0.239599</td>\n",
              "      <td>0.098698</td>\n",
              "      <td>0.363787</td>\n",
              "      <td>0.090794</td>\n",
              "      <td>-0.551600</td>\n",
              "      <td>-0.617801</td>\n",
              "      <td>-0.991390</td>\n",
              "      <td>-0.311169</td>\n",
              "      <td>1.468177</td>\n",
              "      <td>-0.470401</td>\n",
              "      <td>0.207971</td>\n",
              "      <td>0.025791</td>\n",
              "      <td>0.403993</td>\n",
              "      <td>0.251412</td>\n",
              "      <td>-0.018307</td>\n",
              "      <td>0.277838</td>\n",
              "      <td>-0.110474</td>\n",
              "      <td>0.066928</td>\n",
              "      <td>0.128539</td>\n",
              "      <td>-0.189115</td>\n",
              "      <td>0.133558</td>\n",
              "      <td>-0.021053</td>\n",
              "      <td>149.62</td>\n",
              "      <td>0</td>\n",
              "    </tr>\n",
              "    <tr>\n",
              "      <th>1</th>\n",
              "      <td>0.0</td>\n",
              "      <td>1.191857</td>\n",
              "      <td>0.266151</td>\n",
              "      <td>0.166480</td>\n",
              "      <td>0.448154</td>\n",
              "      <td>0.060018</td>\n",
              "      <td>-0.082361</td>\n",
              "      <td>-0.078803</td>\n",
              "      <td>0.085102</td>\n",
              "      <td>-0.255425</td>\n",
              "      <td>-0.166974</td>\n",
              "      <td>1.612727</td>\n",
              "      <td>1.065235</td>\n",
              "      <td>0.489095</td>\n",
              "      <td>-0.143772</td>\n",
              "      <td>0.635558</td>\n",
              "      <td>0.463917</td>\n",
              "      <td>-0.114805</td>\n",
              "      <td>-0.183361</td>\n",
              "      <td>-0.145783</td>\n",
              "      <td>-0.069083</td>\n",
              "      <td>-0.225775</td>\n",
              "      <td>-0.638672</td>\n",
              "      <td>0.101288</td>\n",
              "      <td>-0.339846</td>\n",
              "      <td>0.167170</td>\n",
              "      <td>0.125895</td>\n",
              "      <td>-0.008983</td>\n",
              "      <td>0.014724</td>\n",
              "      <td>2.69</td>\n",
              "      <td>0</td>\n",
              "    </tr>\n",
              "    <tr>\n",
              "      <th>2</th>\n",
              "      <td>1.0</td>\n",
              "      <td>-1.358354</td>\n",
              "      <td>-1.340163</td>\n",
              "      <td>1.773209</td>\n",
              "      <td>0.379780</td>\n",
              "      <td>-0.503198</td>\n",
              "      <td>1.800499</td>\n",
              "      <td>0.791461</td>\n",
              "      <td>0.247676</td>\n",
              "      <td>-1.514654</td>\n",
              "      <td>0.207643</td>\n",
              "      <td>0.624501</td>\n",
              "      <td>0.066084</td>\n",
              "      <td>0.717293</td>\n",
              "      <td>-0.165946</td>\n",
              "      <td>2.345865</td>\n",
              "      <td>-2.890083</td>\n",
              "      <td>1.109969</td>\n",
              "      <td>-0.121359</td>\n",
              "      <td>-2.261857</td>\n",
              "      <td>0.524980</td>\n",
              "      <td>0.247998</td>\n",
              "      <td>0.771679</td>\n",
              "      <td>0.909412</td>\n",
              "      <td>-0.689281</td>\n",
              "      <td>-0.327642</td>\n",
              "      <td>-0.139097</td>\n",
              "      <td>-0.055353</td>\n",
              "      <td>-0.059752</td>\n",
              "      <td>378.66</td>\n",
              "      <td>0</td>\n",
              "    </tr>\n",
              "    <tr>\n",
              "      <th>3</th>\n",
              "      <td>1.0</td>\n",
              "      <td>-0.966272</td>\n",
              "      <td>-0.185226</td>\n",
              "      <td>1.792993</td>\n",
              "      <td>-0.863291</td>\n",
              "      <td>-0.010309</td>\n",
              "      <td>1.247203</td>\n",
              "      <td>0.237609</td>\n",
              "      <td>0.377436</td>\n",
              "      <td>-1.387024</td>\n",
              "      <td>-0.054952</td>\n",
              "      <td>-0.226487</td>\n",
              "      <td>0.178228</td>\n",
              "      <td>0.507757</td>\n",
              "      <td>-0.287924</td>\n",
              "      <td>-0.631418</td>\n",
              "      <td>-1.059647</td>\n",
              "      <td>-0.684093</td>\n",
              "      <td>1.965775</td>\n",
              "      <td>-1.232622</td>\n",
              "      <td>-0.208038</td>\n",
              "      <td>-0.108300</td>\n",
              "      <td>0.005274</td>\n",
              "      <td>-0.190321</td>\n",
              "      <td>-1.175575</td>\n",
              "      <td>0.647376</td>\n",
              "      <td>-0.221929</td>\n",
              "      <td>0.062723</td>\n",
              "      <td>0.061458</td>\n",
              "      <td>123.50</td>\n",
              "      <td>0</td>\n",
              "    </tr>\n",
              "    <tr>\n",
              "      <th>4</th>\n",
              "      <td>2.0</td>\n",
              "      <td>-1.158233</td>\n",
              "      <td>0.877737</td>\n",
              "      <td>1.548718</td>\n",
              "      <td>0.403034</td>\n",
              "      <td>-0.407193</td>\n",
              "      <td>0.095921</td>\n",
              "      <td>0.592941</td>\n",
              "      <td>-0.270533</td>\n",
              "      <td>0.817739</td>\n",
              "      <td>0.753074</td>\n",
              "      <td>-0.822843</td>\n",
              "      <td>0.538196</td>\n",
              "      <td>1.345852</td>\n",
              "      <td>-1.119670</td>\n",
              "      <td>0.175121</td>\n",
              "      <td>-0.451449</td>\n",
              "      <td>-0.237033</td>\n",
              "      <td>-0.038195</td>\n",
              "      <td>0.803487</td>\n",
              "      <td>0.408542</td>\n",
              "      <td>-0.009431</td>\n",
              "      <td>0.798278</td>\n",
              "      <td>-0.137458</td>\n",
              "      <td>0.141267</td>\n",
              "      <td>-0.206010</td>\n",
              "      <td>0.502292</td>\n",
              "      <td>0.219422</td>\n",
              "      <td>0.215153</td>\n",
              "      <td>69.99</td>\n",
              "      <td>0</td>\n",
              "    </tr>\n",
              "  </tbody>\n",
              "</table>\n",
              "</div>"
            ],
            "text/plain": [
              "   Time        V1        V2        V3  ...       V27       V28  Amount  Class\n",
              "0   0.0 -1.359807 -0.072781  2.536347  ...  0.133558 -0.021053  149.62      0\n",
              "1   0.0  1.191857  0.266151  0.166480  ... -0.008983  0.014724    2.69      0\n",
              "2   1.0 -1.358354 -1.340163  1.773209  ... -0.055353 -0.059752  378.66      0\n",
              "3   1.0 -0.966272 -0.185226  1.792993  ...  0.062723  0.061458  123.50      0\n",
              "4   2.0 -1.158233  0.877737  1.548718  ...  0.219422  0.215153   69.99      0\n",
              "\n",
              "[5 rows x 31 columns]"
            ]
          },
          "metadata": {
            "tags": []
          },
          "execution_count": 2
        }
      ]
    },
    {
      "cell_type": "code",
      "metadata": {
        "id": "QsA391odD4If",
        "colab_type": "code",
        "outputId": "23640ad7-2225-4b71-f696-1c888fa14de0",
        "colab": {
          "base_uri": "https://localhost:8080/",
          "height": 317
        }
      },
      "source": [
        "# На всякий случай посмотрим общую статистику\n",
        "df.describe()"
      ],
      "execution_count": 0,
      "outputs": [
        {
          "output_type": "execute_result",
          "data": {
            "text/html": [
              "<div>\n",
              "<style scoped>\n",
              "    .dataframe tbody tr th:only-of-type {\n",
              "        vertical-align: middle;\n",
              "    }\n",
              "\n",
              "    .dataframe tbody tr th {\n",
              "        vertical-align: top;\n",
              "    }\n",
              "\n",
              "    .dataframe thead th {\n",
              "        text-align: right;\n",
              "    }\n",
              "</style>\n",
              "<table border=\"1\" class=\"dataframe\">\n",
              "  <thead>\n",
              "    <tr style=\"text-align: right;\">\n",
              "      <th></th>\n",
              "      <th>Time</th>\n",
              "      <th>V1</th>\n",
              "      <th>V2</th>\n",
              "      <th>V3</th>\n",
              "      <th>V4</th>\n",
              "      <th>V5</th>\n",
              "      <th>V6</th>\n",
              "      <th>V7</th>\n",
              "      <th>V8</th>\n",
              "      <th>V9</th>\n",
              "      <th>V10</th>\n",
              "      <th>V11</th>\n",
              "      <th>V12</th>\n",
              "      <th>V13</th>\n",
              "      <th>V14</th>\n",
              "      <th>V15</th>\n",
              "      <th>V16</th>\n",
              "      <th>V17</th>\n",
              "      <th>V18</th>\n",
              "      <th>V19</th>\n",
              "      <th>V20</th>\n",
              "      <th>V21</th>\n",
              "      <th>V22</th>\n",
              "      <th>V23</th>\n",
              "      <th>V24</th>\n",
              "      <th>V25</th>\n",
              "      <th>V26</th>\n",
              "      <th>V27</th>\n",
              "      <th>V28</th>\n",
              "      <th>Amount</th>\n",
              "      <th>Class</th>\n",
              "    </tr>\n",
              "  </thead>\n",
              "  <tbody>\n",
              "    <tr>\n",
              "      <th>count</th>\n",
              "      <td>284807.000000</td>\n",
              "      <td>2.848070e+05</td>\n",
              "      <td>2.848070e+05</td>\n",
              "      <td>2.848070e+05</td>\n",
              "      <td>2.848070e+05</td>\n",
              "      <td>2.848070e+05</td>\n",
              "      <td>2.848070e+05</td>\n",
              "      <td>2.848070e+05</td>\n",
              "      <td>2.848070e+05</td>\n",
              "      <td>2.848070e+05</td>\n",
              "      <td>2.848070e+05</td>\n",
              "      <td>2.848070e+05</td>\n",
              "      <td>2.848070e+05</td>\n",
              "      <td>2.848070e+05</td>\n",
              "      <td>2.848070e+05</td>\n",
              "      <td>2.848070e+05</td>\n",
              "      <td>2.848070e+05</td>\n",
              "      <td>2.848070e+05</td>\n",
              "      <td>2.848070e+05</td>\n",
              "      <td>2.848070e+05</td>\n",
              "      <td>2.848070e+05</td>\n",
              "      <td>2.848070e+05</td>\n",
              "      <td>2.848070e+05</td>\n",
              "      <td>2.848070e+05</td>\n",
              "      <td>2.848070e+05</td>\n",
              "      <td>2.848070e+05</td>\n",
              "      <td>2.848070e+05</td>\n",
              "      <td>2.848070e+05</td>\n",
              "      <td>2.848070e+05</td>\n",
              "      <td>284807.000000</td>\n",
              "      <td>284807.000000</td>\n",
              "    </tr>\n",
              "    <tr>\n",
              "      <th>mean</th>\n",
              "      <td>94813.859575</td>\n",
              "      <td>3.919560e-15</td>\n",
              "      <td>5.688174e-16</td>\n",
              "      <td>-8.769071e-15</td>\n",
              "      <td>2.782312e-15</td>\n",
              "      <td>-1.552563e-15</td>\n",
              "      <td>2.010663e-15</td>\n",
              "      <td>-1.694249e-15</td>\n",
              "      <td>-1.927028e-16</td>\n",
              "      <td>-3.137024e-15</td>\n",
              "      <td>1.768627e-15</td>\n",
              "      <td>9.170318e-16</td>\n",
              "      <td>-1.810658e-15</td>\n",
              "      <td>1.693438e-15</td>\n",
              "      <td>1.479045e-15</td>\n",
              "      <td>3.482336e-15</td>\n",
              "      <td>1.392007e-15</td>\n",
              "      <td>-7.528491e-16</td>\n",
              "      <td>4.328772e-16</td>\n",
              "      <td>9.049732e-16</td>\n",
              "      <td>5.085503e-16</td>\n",
              "      <td>1.537294e-16</td>\n",
              "      <td>7.959909e-16</td>\n",
              "      <td>5.367590e-16</td>\n",
              "      <td>4.458112e-15</td>\n",
              "      <td>1.453003e-15</td>\n",
              "      <td>1.699104e-15</td>\n",
              "      <td>-3.660161e-16</td>\n",
              "      <td>-1.206049e-16</td>\n",
              "      <td>88.349619</td>\n",
              "      <td>0.001727</td>\n",
              "    </tr>\n",
              "    <tr>\n",
              "      <th>std</th>\n",
              "      <td>47488.145955</td>\n",
              "      <td>1.958696e+00</td>\n",
              "      <td>1.651309e+00</td>\n",
              "      <td>1.516255e+00</td>\n",
              "      <td>1.415869e+00</td>\n",
              "      <td>1.380247e+00</td>\n",
              "      <td>1.332271e+00</td>\n",
              "      <td>1.237094e+00</td>\n",
              "      <td>1.194353e+00</td>\n",
              "      <td>1.098632e+00</td>\n",
              "      <td>1.088850e+00</td>\n",
              "      <td>1.020713e+00</td>\n",
              "      <td>9.992014e-01</td>\n",
              "      <td>9.952742e-01</td>\n",
              "      <td>9.585956e-01</td>\n",
              "      <td>9.153160e-01</td>\n",
              "      <td>8.762529e-01</td>\n",
              "      <td>8.493371e-01</td>\n",
              "      <td>8.381762e-01</td>\n",
              "      <td>8.140405e-01</td>\n",
              "      <td>7.709250e-01</td>\n",
              "      <td>7.345240e-01</td>\n",
              "      <td>7.257016e-01</td>\n",
              "      <td>6.244603e-01</td>\n",
              "      <td>6.056471e-01</td>\n",
              "      <td>5.212781e-01</td>\n",
              "      <td>4.822270e-01</td>\n",
              "      <td>4.036325e-01</td>\n",
              "      <td>3.300833e-01</td>\n",
              "      <td>250.120109</td>\n",
              "      <td>0.041527</td>\n",
              "    </tr>\n",
              "    <tr>\n",
              "      <th>min</th>\n",
              "      <td>0.000000</td>\n",
              "      <td>-5.640751e+01</td>\n",
              "      <td>-7.271573e+01</td>\n",
              "      <td>-4.832559e+01</td>\n",
              "      <td>-5.683171e+00</td>\n",
              "      <td>-1.137433e+02</td>\n",
              "      <td>-2.616051e+01</td>\n",
              "      <td>-4.355724e+01</td>\n",
              "      <td>-7.321672e+01</td>\n",
              "      <td>-1.343407e+01</td>\n",
              "      <td>-2.458826e+01</td>\n",
              "      <td>-4.797473e+00</td>\n",
              "      <td>-1.868371e+01</td>\n",
              "      <td>-5.791881e+00</td>\n",
              "      <td>-1.921433e+01</td>\n",
              "      <td>-4.498945e+00</td>\n",
              "      <td>-1.412985e+01</td>\n",
              "      <td>-2.516280e+01</td>\n",
              "      <td>-9.498746e+00</td>\n",
              "      <td>-7.213527e+00</td>\n",
              "      <td>-5.449772e+01</td>\n",
              "      <td>-3.483038e+01</td>\n",
              "      <td>-1.093314e+01</td>\n",
              "      <td>-4.480774e+01</td>\n",
              "      <td>-2.836627e+00</td>\n",
              "      <td>-1.029540e+01</td>\n",
              "      <td>-2.604551e+00</td>\n",
              "      <td>-2.256568e+01</td>\n",
              "      <td>-1.543008e+01</td>\n",
              "      <td>0.000000</td>\n",
              "      <td>0.000000</td>\n",
              "    </tr>\n",
              "    <tr>\n",
              "      <th>25%</th>\n",
              "      <td>54201.500000</td>\n",
              "      <td>-9.203734e-01</td>\n",
              "      <td>-5.985499e-01</td>\n",
              "      <td>-8.903648e-01</td>\n",
              "      <td>-8.486401e-01</td>\n",
              "      <td>-6.915971e-01</td>\n",
              "      <td>-7.682956e-01</td>\n",
              "      <td>-5.540759e-01</td>\n",
              "      <td>-2.086297e-01</td>\n",
              "      <td>-6.430976e-01</td>\n",
              "      <td>-5.354257e-01</td>\n",
              "      <td>-7.624942e-01</td>\n",
              "      <td>-4.055715e-01</td>\n",
              "      <td>-6.485393e-01</td>\n",
              "      <td>-4.255740e-01</td>\n",
              "      <td>-5.828843e-01</td>\n",
              "      <td>-4.680368e-01</td>\n",
              "      <td>-4.837483e-01</td>\n",
              "      <td>-4.988498e-01</td>\n",
              "      <td>-4.562989e-01</td>\n",
              "      <td>-2.117214e-01</td>\n",
              "      <td>-2.283949e-01</td>\n",
              "      <td>-5.423504e-01</td>\n",
              "      <td>-1.618463e-01</td>\n",
              "      <td>-3.545861e-01</td>\n",
              "      <td>-3.171451e-01</td>\n",
              "      <td>-3.269839e-01</td>\n",
              "      <td>-7.083953e-02</td>\n",
              "      <td>-5.295979e-02</td>\n",
              "      <td>5.600000</td>\n",
              "      <td>0.000000</td>\n",
              "    </tr>\n",
              "    <tr>\n",
              "      <th>50%</th>\n",
              "      <td>84692.000000</td>\n",
              "      <td>1.810880e-02</td>\n",
              "      <td>6.548556e-02</td>\n",
              "      <td>1.798463e-01</td>\n",
              "      <td>-1.984653e-02</td>\n",
              "      <td>-5.433583e-02</td>\n",
              "      <td>-2.741871e-01</td>\n",
              "      <td>4.010308e-02</td>\n",
              "      <td>2.235804e-02</td>\n",
              "      <td>-5.142873e-02</td>\n",
              "      <td>-9.291738e-02</td>\n",
              "      <td>-3.275735e-02</td>\n",
              "      <td>1.400326e-01</td>\n",
              "      <td>-1.356806e-02</td>\n",
              "      <td>5.060132e-02</td>\n",
              "      <td>4.807155e-02</td>\n",
              "      <td>6.641332e-02</td>\n",
              "      <td>-6.567575e-02</td>\n",
              "      <td>-3.636312e-03</td>\n",
              "      <td>3.734823e-03</td>\n",
              "      <td>-6.248109e-02</td>\n",
              "      <td>-2.945017e-02</td>\n",
              "      <td>6.781943e-03</td>\n",
              "      <td>-1.119293e-02</td>\n",
              "      <td>4.097606e-02</td>\n",
              "      <td>1.659350e-02</td>\n",
              "      <td>-5.213911e-02</td>\n",
              "      <td>1.342146e-03</td>\n",
              "      <td>1.124383e-02</td>\n",
              "      <td>22.000000</td>\n",
              "      <td>0.000000</td>\n",
              "    </tr>\n",
              "    <tr>\n",
              "      <th>75%</th>\n",
              "      <td>139320.500000</td>\n",
              "      <td>1.315642e+00</td>\n",
              "      <td>8.037239e-01</td>\n",
              "      <td>1.027196e+00</td>\n",
              "      <td>7.433413e-01</td>\n",
              "      <td>6.119264e-01</td>\n",
              "      <td>3.985649e-01</td>\n",
              "      <td>5.704361e-01</td>\n",
              "      <td>3.273459e-01</td>\n",
              "      <td>5.971390e-01</td>\n",
              "      <td>4.539234e-01</td>\n",
              "      <td>7.395934e-01</td>\n",
              "      <td>6.182380e-01</td>\n",
              "      <td>6.625050e-01</td>\n",
              "      <td>4.931498e-01</td>\n",
              "      <td>6.488208e-01</td>\n",
              "      <td>5.232963e-01</td>\n",
              "      <td>3.996750e-01</td>\n",
              "      <td>5.008067e-01</td>\n",
              "      <td>4.589494e-01</td>\n",
              "      <td>1.330408e-01</td>\n",
              "      <td>1.863772e-01</td>\n",
              "      <td>5.285536e-01</td>\n",
              "      <td>1.476421e-01</td>\n",
              "      <td>4.395266e-01</td>\n",
              "      <td>3.507156e-01</td>\n",
              "      <td>2.409522e-01</td>\n",
              "      <td>9.104512e-02</td>\n",
              "      <td>7.827995e-02</td>\n",
              "      <td>77.165000</td>\n",
              "      <td>0.000000</td>\n",
              "    </tr>\n",
              "    <tr>\n",
              "      <th>max</th>\n",
              "      <td>172792.000000</td>\n",
              "      <td>2.454930e+00</td>\n",
              "      <td>2.205773e+01</td>\n",
              "      <td>9.382558e+00</td>\n",
              "      <td>1.687534e+01</td>\n",
              "      <td>3.480167e+01</td>\n",
              "      <td>7.330163e+01</td>\n",
              "      <td>1.205895e+02</td>\n",
              "      <td>2.000721e+01</td>\n",
              "      <td>1.559499e+01</td>\n",
              "      <td>2.374514e+01</td>\n",
              "      <td>1.201891e+01</td>\n",
              "      <td>7.848392e+00</td>\n",
              "      <td>7.126883e+00</td>\n",
              "      <td>1.052677e+01</td>\n",
              "      <td>8.877742e+00</td>\n",
              "      <td>1.731511e+01</td>\n",
              "      <td>9.253526e+00</td>\n",
              "      <td>5.041069e+00</td>\n",
              "      <td>5.591971e+00</td>\n",
              "      <td>3.942090e+01</td>\n",
              "      <td>2.720284e+01</td>\n",
              "      <td>1.050309e+01</td>\n",
              "      <td>2.252841e+01</td>\n",
              "      <td>4.584549e+00</td>\n",
              "      <td>7.519589e+00</td>\n",
              "      <td>3.517346e+00</td>\n",
              "      <td>3.161220e+01</td>\n",
              "      <td>3.384781e+01</td>\n",
              "      <td>25691.160000</td>\n",
              "      <td>1.000000</td>\n",
              "    </tr>\n",
              "  </tbody>\n",
              "</table>\n",
              "</div>"
            ],
            "text/plain": [
              "                Time            V1  ...         Amount          Class\n",
              "count  284807.000000  2.848070e+05  ...  284807.000000  284807.000000\n",
              "mean    94813.859575  3.919560e-15  ...      88.349619       0.001727\n",
              "std     47488.145955  1.958696e+00  ...     250.120109       0.041527\n",
              "min         0.000000 -5.640751e+01  ...       0.000000       0.000000\n",
              "25%     54201.500000 -9.203734e-01  ...       5.600000       0.000000\n",
              "50%     84692.000000  1.810880e-02  ...      22.000000       0.000000\n",
              "75%    139320.500000  1.315642e+00  ...      77.165000       0.000000\n",
              "max    172792.000000  2.454930e+00  ...   25691.160000       1.000000\n",
              "\n",
              "[8 rows x 31 columns]"
            ]
          },
          "metadata": {
            "tags": []
          },
          "execution_count": 3
        }
      ]
    },
    {
      "cell_type": "code",
      "metadata": {
        "id": "x1RrqBSqEDpN",
        "colab_type": "code",
        "outputId": "05eb91c2-2939-4a8e-9b4b-a3689d22f366",
        "colab": {
          "base_uri": "https://localhost:8080/",
          "height": 34
        }
      },
      "source": [
        "# Проверим есть ли пустые значеия\n",
        "df.isnull().sum().max()"
      ],
      "execution_count": 0,
      "outputs": [
        {
          "output_type": "execute_result",
          "data": {
            "text/plain": [
              "0"
            ]
          },
          "metadata": {
            "tags": []
          },
          "execution_count": 4
        }
      ]
    },
    {
      "cell_type": "code",
      "metadata": {
        "id": "13aKc4ycFltO",
        "colab_type": "code",
        "outputId": "b3034bd4-a444-4629-cf84-f8da0fe59eee",
        "colab": {
          "base_uri": "https://localhost:8080/",
          "height": 51
        }
      },
      "source": [
        "# А теперь посмотрим насколько сбалансирована наша выборка, посчитаем сколько элементов в каждом классе в %\n",
        "\n",
        "print('No Frauds', round(df['Class'].value_counts()[0]/len(df) * 100,2), '% of the dataset')\n",
        "print('Frauds', round(df['Class'].value_counts()[1]/len(df) * 100,2), '% of the dataset')"
      ],
      "execution_count": 0,
      "outputs": [
        {
          "output_type": "stream",
          "text": [
            "No Frauds 99.83 % of the dataset\n",
            "Frauds 0.17 % of the dataset\n"
          ],
          "name": "stdout"
        }
      ]
    },
    {
      "cell_type": "code",
      "metadata": {
        "id": "n3z9_lruIJPz",
        "colab_type": "code",
        "outputId": "415a95dd-4435-4e19-bb9a-f405e9e285b9",
        "colab": {
          "base_uri": "https://localhost:8080/",
          "height": 330
        }
      },
      "source": [
        "# Проиллюстрируем распределение\n",
        "import matplotlib.pyplot as plt\n",
        "import seaborn as sns\n",
        "\n",
        "sns.countplot('Class', data=df, palette=\"coolwarm_r\")\n",
        "plt.title('Class Distributions \\n (0: No Fraud || 1: Fraud)', fontsize=14)\n"
      ],
      "execution_count": 0,
      "outputs": [
        {
          "output_type": "execute_result",
          "data": {
            "text/plain": [
              "Text(0.5, 1.0, 'Class Distributions \\n (0: No Fraud || 1: Fraud)')"
            ]
          },
          "metadata": {
            "tags": []
          },
          "execution_count": 6
        },
        {
          "output_type": "display_data",
          "data": {
            "image/png": "[encoded data removed]",
            "text/plain": [
              "<Figure size 432x288 with 1 Axes>"
            ]
          },
          "metadata": {
            "tags": []
          }
        }
      ]
    },
    {
      "cell_type": "markdown",
      "metadata": {
        "id": "-ndD0AeeXiwE",
        "colab_type": "text"
      },
      "source": [
        "**Метрики качества моделей**\n",
        "\n",
        "Прежде чем начать обсуждать способы борьбы с несбалансированными классами, нужно разобраться с критериями оценки успешности этой борьбы. В машинном обучении, для такой задачи, преинято использовать некоторые стандартные метрики. Перед переходом к самим метрикам необходимо ввести важную концепцию для описания этих метрик в терминах ошибок классификации — confusion matrix (матрица ошибок). В нашем случае двухклассовой классификации  матрица ошибок будет выглядеть следующим образом:\n",
        "\n",
        "$$\\hat y / y$$| $$y=1$$             | $$y=0$$ \n",
        "--------------|---------------------|----------------------\n",
        "$$\\hat y = 1$$| True Positive (TP)  | False Positive (FP)\n",
        "$$\\hat y = 0$$| False Negative (FP) | True Negative (FN)\n",
        "\n",
        "Здесь $\\hat y$  — это ответ алгоритма на объекте, а $y$ — истинная метка класса на этом объекте.\n",
        "Таким образом, ошибки классификации бывают двух видов: ложно отрицательные (FN) и ложно положительные (FP).Наиболее понятной метрикой качества модели является точность - доля правильных ответов алгоритма:\n",
        "\n",
        "$$accuracy = {{TP+TN}\\over{TP+TN+FP+FN}}$$\n",
        "\n",
        "Именна эта метрика беспалезна в случае несбалансированных классов. Попробуем посмотреть насколько хорошо accuracy подходит для характеризации нашего набора данных. Посчитаем эту метрику сначала для случая кода наш классификатор разметил все данные меткой мажоритарного класса, и увидим что существенного улучшения выбранной метрики добиться уже не получится, она и так близка еденице (~0.9982725143693799). Для оценки качества работы алгоритма на каждом из классов по отдельности введем метрики precision (точность) и recall (полнота).\n",
        "\n",
        "$$precision={TP\\over{TP+FP}}$$\n",
        "\n",
        "$$recall={TP\\over{TP+FN}}$$\n",
        "\n",
        "Precision можно интерпретировать как долю объектов, названных классификатором положительными и при этом действительно являющимися положительными, а recall показывает, какую долю объектов положительного класса из всех объектов положительного класса нашел алгоритм. Именно введение precision не позволяет нам записывать все объекты в один класс, так как в этом случае мы получаем рост уровня False Positive. Recall демонстрирует способность алгоритма обнаруживать данный класс вообще, а precision — способность отличать этот класс от других классов.\n",
        "\n",
        "Precision и recall не зависят, в отличие от accuracy, от соотношения классов и потому применимы в условиях несбалансированных выборок. Часто в реальной практике стоит задача найти оптимальный баланс между этими двумя метриками. Обычно при оптимизации гиперпараметров алгоритма используется одна метрика, улучшение которой мы и ожидаем увидеть на тестовой выборке. Существует несколько различных способов объединить precision и recall в агрегированный критерий качества. Например F-мера (в общем случае ) $F_\\beta$— среднее гармоническое precision и recall:\n",
        "\n",
        "$$ F_\\beta = (1+\\beta^2) \\cdot{{precision \\cdot recall}\\over{\\beta^2\\cdot precision+recall}}$$\n",
        "\n",
        "$\\beta$ в данном случае определяет вес точности в метрике, и при $\\beta = 1$ это среднее гармоническое (с множителем 2, чтобы в случае $precision = 1$ и $recall = 1%$ иметь $F1 = 1$). F-мера достигает максимума при полноте и точности, равными единице, и близка к нулю, если один из аргументов близок к нулю. Попробуем обучить простейший классификатор на основе логистической регрессии на ншем наборе данных и посчитать описанные метрики для него. Посмотрим насколько он лучше классификатора который будет доверять всем транзакциям."
      ]
    },
    {
      "cell_type": "code",
      "metadata": {
        "id": "jOJj_WKAJCZt",
        "colab_type": "code",
        "outputId": "713ddee2-532b-420d-a800-247c8db4f3a2",
        "colab": {
          "base_uri": "https://localhost:8080/",
          "height": 364
        }
      },
      "source": [
        "from sklearn.model_selection import train_test_split\n",
        "from sklearn.linear_model import LogisticRegression\n",
        "from sklearn.dummy import DummyClassifier\n",
        "from sklearn.metrics import accuracy_score, f1_score, confusion_matrix, precision_score, recall_score\n",
        "\n",
        "# Формируем тестовое и тренировочное множества\n",
        "y = df.Class\n",
        "X = df.drop('Class', axis=1)\n",
        "\n",
        "X_train, X_test, y_train, y_test = train_test_split(X, y, test_size=0.2, random_state=27)\n",
        "\n",
        "# Посмотрим насколько хорошо работает классификатор который довеяет всем транзакциям\n",
        "dummy = DummyClassifier(strategy='most_frequent').fit(X_train, y_train)\n",
        "dummy_pred = dummy.predict(X_test)\n",
        "\n",
        "# Поскольку в этом задании нам придется достаточно часто смотреть на метрики \n",
        "# тестируемой модели имеет смысл поместить код для вывода метрик в отдельную \n",
        "# функцию\n",
        "def display_simple_metrics(y_test, y_pred):\n",
        "  '''\n",
        "  Display confusion matrix as heatmap, print accuracy_score, precision_score, \n",
        "  recall_score, and f1_score\n",
        "  '''\n",
        "  # Покажем матрицу ошибок\n",
        "  sns.heatmap(confusion_matrix(y_test, y_pred), \n",
        "              cmap=\"coolwarm_r\", \n",
        "              annot=True, \n",
        "              linewidths=0.5)\n",
        "  plt.title(\"Confusion_matrix\")\n",
        "  plt.xlabel(\"Predicted_class\")\n",
        "  plt.ylabel(\"Real class\")\n",
        "  plt.show()\n",
        "  # Выведем значения основных метрик\n",
        "  print('accuracy =', accuracy_score(y_test, y_pred))\n",
        "  print('precision =', precision_score(y_test, y_pred, zero_division=0))\n",
        "  print('recall =', recall_score(y_test, y_pred, zero_division=0))\n",
        "  print('f1 =', f1_score(y_test, y_pred))\n",
        "  return None\n",
        "\n",
        "# Вызовем функцию display_simple_metrics()  \n",
        "display_simple_metrics(y_test, dummy_pred)"
      ],
      "execution_count": 0,
      "outputs": [
        {
          "output_type": "display_data",
          "data": {
            "image/png": "[encoded data removed]",
            "text/plain": [
              "<Figure size 432x288 with 2 Axes>"
            ]
          },
          "metadata": {
            "tags": []
          }
        },
        {
          "output_type": "stream",
          "text": [
            "accuracy = 0.9981742214107651\n",
            "precision = 0.0\n",
            "recall = 0.0\n",
            "f1 = 0.0\n"
          ],
          "name": "stdout"
        }
      ]
    },
    {
      "cell_type": "code",
      "metadata": {
        "id": "Zg7zTxln_Tzk",
        "colab_type": "code",
        "outputId": "228e935e-c50f-4343-91cd-a03581e9bbca",
        "colab": {
          "base_uri": "https://localhost:8080/",
          "height": 364
        }
      },
      "source": [
        "# Теперь научим логистическую регрессию, и сравним ее результаты с результатами предыдущего алгоритма\n",
        "lr = LogisticRegression(solver='liblinear').fit(X_train, y_train)\n",
        "lr_pred_0 = lr.predict(X_test)\n",
        "\n",
        "display_simple_metrics(y_test, lr_pred_0)"
      ],
      "execution_count": 0,
      "outputs": [
        {
          "output_type": "display_data",
          "data": {
            "image/png": "[encoded data removed]",
            "text/plain": [
              "<Figure size 432x288 with 2 Axes>"
            ]
          },
          "metadata": {
            "tags": []
          }
        },
        {
          "output_type": "stream",
          "text": [
            "accuracy = 0.9991046662687406\n",
            "precision = 0.8441558441558441\n",
            "recall = 0.625\n",
            "f1 = 0.7182320441988951\n"
          ],
          "name": "stdout"
        }
      ]
    },
    {
      "cell_type": "markdown",
      "metadata": {
        "id": "Is-1Dc4VHYAN",
        "colab_type": "text"
      },
      "source": [
        "Видно что метрика accuracy слабо изменилась после смены классификатора, а вот остальные метрики оказались гораздо более чувствительны."
      ]
    },
    {
      "cell_type": "markdown",
      "metadata": {
        "id": "oayfiNyvdxXP",
        "colab_type": "text"
      },
      "source": [
        "**Способы борьбы с несбалансированными данными.** \n",
        "\n",
        "Рассмотрение задачи именно с точки зрения борьбы с несбалансированноми данными приводит нас к методам изменения набора данных таким образом, чтобы получившийся набор оказался более сбалансированным. Эти методы иногда называют общим термином сэмплирование, это и under-sampling, исключение из выборки части наблюдений мажоритарного класса, и over-sampling, добавление в выборку наблюдений миноритарного класса, например используя бутстрапирование или алгоритмы гененерации новых данных (SMOTE), и методы семплирования с весами, возможны и комбинированные подходы. \n",
        "\n",
        "С другой стороны, более интересным представляется рассмотрение проблемы нахождения качественного решения задачи классификации имея несбалансированный набор данных. Во-первых, такая формулировка задачи представляется более правильной, сами по себе несбалансированные данные являются нормальным явлением, а не каким то негативным случаем, более подробные рассуждения на этот счет имеются например здесь: https://habr.com/ru/post/349078/. Во-вторых, в таком контексте,появляется широкий спектр возможностей связанный не только с балансировкой датасета, но и возможность подбора модели и ее параметров. Поверхностный поиск в google, быстренько выдает несколько подборок решений проблем с несбалансированными классами. Например:\n",
        "\n",
        "Название | Источник\n",
        "---------|----------\n",
        "8 Tactics to Combat Imbalanced Classes in Your Machine Learning Dataset | https://machinelearningmastery.com/tactics-to-combat-imbalanced-classes-in-your-machine-learning-dataset/\n",
        "7 Techniques to Handle Imbalanced Data| https://www.kdnuggets.com/2017/06/7-techniques-handle-imbalanced-data.html\n",
        "How to Handle Imbalanced Classes in Machine Learning | https://elitedatascience.com/imbalanced-classes\n",
        "5 IMPORTANT TECHNIQUES TO PROCESS IMBALANCED DATA IN MACHINE LEARNING | https://analyticsindiamag.com/5-important-techniques-to-process-imbalanced-data-in-machine-learning/\n",
        "\n",
        "Интегрируя написанное в источниках выше можно сформировать список методов которые могут помочь в задачах с несбалансированными наборами данных:\n",
        "\n",
        "**Изменение первоначальной выборки:**\n",
        "1. Уменьшение выборки \n",
        "  1. Случайная подвыборка элементов мажоритарного класса\n",
        "  2. Выделение наиболее интересного подкласса после исследовательского анализа данных\n",
        "  3. Выбор пар элементов разных класов с близкими значениями признаков (близко лежащих в векторном пространстве признаков) \n",
        "2. Увеличение выборки\n",
        "  1. Бутстрапирование элементов миноритарного класса\n",
        "  2. Генерация новых (синтетических) элементов миноритарного класса, например используя алгоритмы SMOTE, ROSE\n",
        "  3. Сбор большего количества данных, например за счет расширения каких то интервалов, временных промежутков, географических областей, использование других источников данных \n",
        "\n",
        "**Измеенение модели, ее параметров или процесса обучения:**\n",
        "\n",
        "1. Выбор правильной метрики оценки качества модели, нечувствительной к дисбалансу в наборе данных, например f-меры или precision.\n",
        "2. Подбор алгоритма классификации не чувствительного к дисбалансу данных\n",
        "3. Подбор гиперпараметров модели \n",
        "4. Подбор алгоритма обучения\n",
        "  1. Подбор параметров алгоритма \n",
        "  2. Использование кроссвалидации\n",
        "  3. Выбор размера батча, алгоритмов формирования батча\n",
        "  4. Использование чувствительных к затратам техник обучения (Cost-Sensitive Learning Technique)\n",
        "\n",
        "Все вышеописанные способы могут комбинироваться между собой произвольным образом, и именно совместное их использование, часто, дает наилучший результат.\n"
      ]
    },
    {
      "cell_type": "markdown",
      "metadata": {
        "id": "yGipA7SiZdTt",
        "colab_type": "text"
      },
      "source": [
        "Продемонстрировать, в полной мере, применение всех описанных мной выше подходов, представляется сложной и весьма обьемной задачей. Поэтому, ниже будут продемонстрированы исключительно простые методы борьбы с дисбалансом классов, поскольку именно о них был изначальный вопрос."
      ]
    },
    {
      "cell_type": "markdown",
      "metadata": {
        "id": "7xzXjj1trohk",
        "colab_type": "text"
      },
      "source": [
        "**1. Случайная подвыборка элементов мажоритарного класса (Undersample majority сlass)**\n",
        "\n",
        "Будем обучать логистическую регрессию с теми же гиперпараметрами на выборке сформированной с помощью андерсэмплинга, заданное соотношение классов 1:1."
      ]
    },
    {
      "cell_type": "code",
      "metadata": {
        "id": "xRyauc0DsSKL",
        "colab_type": "code",
        "outputId": "2bcb5f68-e42c-46a3-c3b9-1dce6ea83208",
        "colab": {
          "base_uri": "https://localhost:8080/",
          "height": 330
        }
      },
      "source": [
        "from sklearn.utils import resample\n",
        "\n",
        "# Сформируем обучающую выборку\n",
        "X_concat=pd.concat([X_train,y_train],axis=1)\n",
        "not_fraud=X_concat[X_concat['Class']==0]\n",
        "fraud=X_concat[X_concat['Class']==1]\n",
        "not_fraud_downsampled = resample(not_fraud, replace = False, n_samples = len(fraud), random_state = 27) \n",
        "downsampled = pd.concat([not_fraud_downsampled, fraud])\n",
        "\n",
        "sns.countplot('Class', data=downsampled, palette=\"coolwarm_r\")\n",
        "plt.title('Class Distributions \\n (0: No Fraud || 1: Fraud)', fontsize=14)"
      ],
      "execution_count": 0,
      "outputs": [
        {
          "output_type": "execute_result",
          "data": {
            "text/plain": [
              "Text(0.5, 1.0, 'Class Distributions \\n (0: No Fraud || 1: Fraud)')"
            ]
          },
          "metadata": {
            "tags": []
          },
          "execution_count": 9
        },
        {
          "output_type": "display_data",
          "data": {
            "image/png": "[encoded data removed]",
            "text/plain": [
              "<Figure size 432x288 with 1 Axes>"
            ]
          },
          "metadata": {
            "tags": []
          }
        }
      ]
    },
    {
      "cell_type": "code",
      "metadata": {
        "id": "z8PFqUEHw7Ej",
        "colab_type": "code",
        "outputId": "8cfb4106-00a7-4b16-9bf9-e9c91a97f6ae",
        "colab": {
          "base_uri": "https://localhost:8080/",
          "height": 364
        }
      },
      "source": [
        "# Поскольку мы будем пробовать методы ресэмплинга именно на логистической \n",
        "# регресси засунем повторяющийся код в функцию\n",
        "def teach_logistic_regression(dataset, X_test):\n",
        "  '''\n",
        "  Function get train and X_test datasets, teach logistic regression classifier \n",
        "  and return trained model and prediction for y_test \n",
        "  '''\n",
        "  # Разобьем тренировочную выборку\n",
        "  y_train = dataset.Class\n",
        "  X_train = dataset.drop('Class', axis=1)\n",
        "  # Обучим регрессию\n",
        "  lr = LogisticRegression(solver='liblinear').fit(X_train, y_train)\n",
        "  lr_pred = lr.predict(X_test)\n",
        "  return(lr, lr_pred)\n",
        "\n",
        "lr_1, lr_pred_1=teach_logistic_regression(downsampled, X_test)\n",
        "display_simple_metrics(y_test, lr_pred_1)"
      ],
      "execution_count": 0,
      "outputs": [
        {
          "output_type": "display_data",
          "data": {
            "image/png": "[encoded data removed]",
            "text/plain": [
              "<Figure size 432x288 with 2 Axes>"
            ]
          },
          "metadata": {
            "tags": []
          }
        },
        {
          "output_type": "stream",
          "text": [
            "accuracy = 0.9699975422211299\n",
            "precision = 0.05142537730575741\n",
            "recall = 0.8846153846153846\n",
            "f1 = 0.0972002113048072\n"
          ],
          "name": "stdout"
        }
      ]
    },
    {
      "cell_type": "markdown",
      "metadata": {
        "id": "QyvduRyZ3aFX",
        "colab_type": "text"
      },
      "source": [
        "Получившаяся модель стала немного лучше выявлять случаи мошенничества, однако стала достаточно часто подозревать честные транзакции в мошенничестве. Метрика recall заметно увеличилась, f1 и precision существенно снизилась, и если присмотреться даже accuracy пострадала. В случае когда цена пропуска мошеннической транзакции гораздо выше цены ложного обнаружения, такая модель может оказаться лучше предыдущей. Но в целом нельзя назвать ее хорошей. Вообще, продемонстирированный подход, имеет смысл применять к очень большим выборкам, таким что получившаяся выборка будет достаточно большой для качественного обучения модели, и при этом время обучения сократится в разы (а то и на порядки) за счет сокращения выборки."
      ]
    },
    {
      "cell_type": "markdown",
      "metadata": {
        "id": "dwuEr0cy6NDX",
        "colab_type": "text"
      },
      "source": [
        "**2. Бутстрапирование элементов миноритарного класса (Oversample minority class)**\n",
        "\n",
        "Все как в прошлом примере, модель, параметры, соотношение классов"
      ]
    },
    {
      "cell_type": "code",
      "metadata": {
        "id": "ce0qnb1863w_",
        "colab_type": "code",
        "outputId": "9912c363-6642-4e05-9589-5dc89bcd0d12",
        "colab": {
          "base_uri": "https://localhost:8080/",
          "height": 330
        }
      },
      "source": [
        "# Сформируем обучающую выборку \n",
        "X_concat=pd.concat([X_train,y_train],axis=1)\n",
        "not_fraud=X_concat[X_concat['Class']==0]\n",
        "fraud=X_concat[X_concat['Class']==1]\n",
        "fraud_upsampled = resample(fraud, replace=True, n_samples=len(not_fraud), random_state=27)  \n",
        "upsampled = pd.concat([not_fraud, fraud_upsampled])\n",
        "\n",
        "sns.countplot('Class', data=upsampled, palette=\"coolwarm_r\")\n",
        "plt.title('Class Distributions \\n (0: No Fraud || 1: Fraud)', fontsize=14)"
      ],
      "execution_count": 0,
      "outputs": [
        {
          "output_type": "execute_result",
          "data": {
            "text/plain": [
              "Text(0.5, 1.0, 'Class Distributions \\n (0: No Fraud || 1: Fraud)')"
            ]
          },
          "metadata": {
            "tags": []
          },
          "execution_count": 11
        },
        {
          "output_type": "display_data",
          "data": {
            "image/png": "[encoded data removed]",
            "text/plain": [
              "<Figure size 432x288 with 1 Axes>"
            ]
          },
          "metadata": {
            "tags": []
          }
        }
      ]
    },
    {
      "cell_type": "code",
      "metadata": {
        "id": "E0bKhIHm8p5f",
        "colab_type": "code",
        "outputId": "01b0d6c7-278e-4ed3-81f3-a45e46cca892",
        "colab": {
          "base_uri": "https://localhost:8080/",
          "height": 364
        }
      },
      "source": [
        "lr_2, lr_pred_2=teach_logistic_regression(upsampled, X_test)\n",
        "display_simple_metrics(y_test, lr_pred_2)"
      ],
      "execution_count": 0,
      "outputs": [
        {
          "output_type": "display_data",
          "data": {
            "image/png": "[encoded data removed]",
            "text/plain": [
              "<Figure size 432x288 with 2 Axes>"
            ]
          },
          "metadata": {
            "tags": []
          }
        },
        {
          "output_type": "stream",
          "text": [
            "accuracy = 0.9810224360099715\n",
            "precision = 0.07778738115816768\n",
            "recall = 0.8653846153846154\n",
            "f1 = 0.1427438540840603\n"
          ],
          "name": "stdout"
        }
      ]
    },
    {
      "cell_type": "markdown",
      "metadata": {
        "id": "pBaljYnK9jNw",
        "colab_type": "text"
      },
      "source": [
        "Результат очень похож на предыдущщий, ложных подозрений почти в 1.5 раза меньше, но все равно на порядок больше количества истинных мошеннических транзакций. Продемонстрированный подход наиболее актуален в случае малого набора данных. Попробовать сбалансировать precision и recall как в случае oversampling так и undersampling можно попробовать варьируя соотношение классов. Попробуем 1:5."
      ]
    },
    {
      "cell_type": "code",
      "metadata": {
        "id": "PAJ17X4zAQOm",
        "colab_type": "code",
        "outputId": "14f28990-5ef7-42d6-b395-6351ea9a19b2",
        "colab": {
          "base_uri": "https://localhost:8080/",
          "height": 330
        }
      },
      "source": [
        "# Сформируем обучающую выборку \n",
        "X_concat=pd.concat([X_train,y_train],axis=1)\n",
        "not_fraud=X_concat[X_concat['Class']==0]\n",
        "fraud=X_concat[X_concat['Class']==1]\n",
        "fraud_upsampled = resample(fraud, replace=True, n_samples=len(not_fraud)//5, random_state=27) \n",
        "upsampled = pd.concat([not_fraud, fraud_upsampled])\n",
        "\n",
        "sns.countplot('Class', data=upsampled, palette=\"coolwarm_r\")\n",
        "plt.title('Class Distributions \\n (0: No Fraud || 1: Fraud)', fontsize=14)"
      ],
      "execution_count": 0,
      "outputs": [
        {
          "output_type": "execute_result",
          "data": {
            "text/plain": [
              "Text(0.5, 1.0, 'Class Distributions \\n (0: No Fraud || 1: Fraud)')"
            ]
          },
          "metadata": {
            "tags": []
          },
          "execution_count": 13
        },
        {
          "output_type": "display_data",
          "data": {
            "image/png": "[encoded data removed]",
            "text/plain": [
              "<Figure size 432x288 with 1 Axes>"
            ]
          },
          "metadata": {
            "tags": []
          }
        }
      ]
    },
    {
      "cell_type": "code",
      "metadata": {
        "id": "ZzYrSnA8Af3X",
        "colab_type": "code",
        "outputId": "32f40aaa-373b-4d42-a0af-950c9c396469",
        "colab": {
          "base_uri": "https://localhost:8080/",
          "height": 364
        }
      },
      "source": [
        "lr_3, lr_pred_3=teach_logistic_regression(upsampled, X_test)\n",
        "display_simple_metrics(y_test, lr_pred_3)"
      ],
      "execution_count": 0,
      "outputs": [
        {
          "output_type": "display_data",
          "data": {
            "image/png": "[encoded data removed]",
            "text/plain": [
              "<Figure size 432x288 with 2 Axes>"
            ]
          },
          "metadata": {
            "tags": []
          }
        },
        {
          "output_type": "stream",
          "text": [
            "accuracy = 0.9961553316245918\n",
            "precision = 0.2846441947565543\n",
            "recall = 0.7307692307692307\n",
            "f1 = 0.40970350404312667\n"
          ],
          "name": "stdout"
        }
      ]
    },
    {
      "cell_type": "markdown",
      "metadata": {
        "id": "A6vRwz3-Cn45",
        "colab_type": "text"
      },
      "source": [
        "Видно что на таком множестве регрессия обучилась иначе, precision выросла по сравнению с предыдущим примером, recal снизилась f1-мера существенно подросла (Более чем вдвое). Теперь попробуем поправить дисбаланс классов создавая синтетические образцы.\n",
        "\n",
        "**3. Генерация элементов миноритарного класса (SMOTE)**"
      ]
    },
    {
      "cell_type": "code",
      "metadata": {
        "id": "3D8OQF6QDPfH",
        "colab_type": "code",
        "outputId": "e96f3d3d-7c4e-4892-8f8a-27b42323b961",
        "colab": {
          "base_uri": "https://localhost:8080/",
          "height": 452
        }
      },
      "source": [
        "from imblearn.over_sampling import SMOTE\n",
        "\n",
        "# Создадим сбалансированнцю выборку используяалгоритм SMOTE, баланс 1:1\n",
        "sm = SMOTE(random_state=27, ratio=1.0)\n",
        "X_sm, y_sm = sm.fit_sample(X_train, y_train)\n",
        "\n",
        "# Функция SMOTE.fit_sample() отдает датасет в виде двух массивов NdArray, \n",
        "# преобразуем их в pandas DataFrame чтобы применять заготовленные ранее куски \n",
        "# кода\n",
        "X_sm=pd.DataFrame(X_sm, columns=X_train.columns)\n",
        "y_sm=pd.Series(y_sm, name=y_train.name)\n",
        "smote_dataset=pd.concat([X_sm, y_sm], axis=1)\n",
        "\n",
        "sns.countplot('Class', data=smote_dataset, palette=\"coolwarm_r\")\n",
        "plt.title('Class Distributions \\n (0: No Fraud || 1: Fraud)', fontsize=14)"
      ],
      "execution_count": 0,
      "outputs": [
        {
          "output_type": "stream",
          "text": [
            "/usr/local/lib/python3.6/dist-packages/sklearn/externals/six.py:31: FutureWarning: The module is deprecated in version 0.21 and will be removed in version 0.23 since we've dropped support for Python 2.7. Please rely on the official version of six (https://pypi.org/project/six/).\n",
            "  \"(https://pypi.org/project/six/).\", FutureWarning)\n",
            "/usr/local/lib/python3.6/dist-packages/sklearn/utils/deprecation.py:144: FutureWarning: The sklearn.neighbors.base module is  deprecated in version 0.22 and will be removed in version 0.24. The corresponding classes / functions should instead be imported from sklearn.neighbors. Anything that cannot be imported from sklearn.neighbors is now part of the private API.\n",
            "  warnings.warn(message, FutureWarning)\n",
            "/usr/local/lib/python3.6/dist-packages/sklearn/utils/deprecation.py:87: FutureWarning: Function safe_indexing is deprecated; safe_indexing is deprecated in version 0.22 and will be removed in version 0.24.\n",
            "  warnings.warn(msg, category=FutureWarning)\n"
          ],
          "name": "stderr"
        },
        {
          "output_type": "execute_result",
          "data": {
            "text/plain": [
              "Text(0.5, 1.0, 'Class Distributions \\n (0: No Fraud || 1: Fraud)')"
            ]
          },
          "metadata": {
            "tags": []
          },
          "execution_count": 15
        },
        {
          "output_type": "display_data",
          "data": {
            "image/png": "[encoded data removed]",
            "text/plain": [
              "<Figure size 432x288 with 1 Axes>"
            ]
          },
          "metadata": {
            "tags": []
          }
        }
      ]
    },
    {
      "cell_type": "code",
      "metadata": {
        "id": "6JG9ROnwXN2N",
        "colab_type": "code",
        "outputId": "e9501692-59d7-469e-caec-886c0fcb2170",
        "colab": {
          "base_uri": "https://localhost:8080/",
          "height": 364
        }
      },
      "source": [
        "lr_4, lr_pred_4=teach_logistic_regression(smote_dataset, X_test)\n",
        "display_simple_metrics(y_test, lr_pred_4)"
      ],
      "execution_count": 0,
      "outputs": [
        {
          "output_type": "display_data",
          "data": {
            "image/png": "[encoded data removed]",
            "text/plain": [
              "<Figure size 432x288 with 2 Axes>"
            ]
          },
          "metadata": {
            "tags": []
          }
        },
        {
          "output_type": "stream",
          "text": [
            "accuracy = 0.9834977704434535\n",
            "precision = 0.0893909626719057\n",
            "recall = 0.875\n",
            "f1 = 0.1622103386809269\n"
          ],
          "name": "stdout"
        }
      ]
    },
    {
      "cell_type": "markdown",
      "metadata": {
        "id": "RRzZPxQH9-qB",
        "colab_type": "text"
      },
      "source": [
        "Полученная с использованием метода SMOTE модель оказалась еще чуть лучше чем модель с оверсэмплингом. Количество ложно-позитивных срабтываний чуть уменьшилось, но порядок остался тем же. В целом балансирование классов в случае с нашим набором данных пока не привело к каким то революционным результатам, удалось увеличить recall за счет сильного снижения precision. Этого можно было добиться и более простыми способами. Можно конечно поиграть с комбинацией описанных методов, например применять одновременно и оверсэмплинг миноритарного класса и андерсэиплинг мажоритарного, или последовательно применить SMOTE и ROSE методы генерации синтетических образцов миноритарного класса. Существенно могло бы помочь увеличение количества наблюдений за счет дополнительных наборов данных. \n",
        "\n",
        "Для того чтобы продемонстрировать, что качество модели зависит не только от баланса классов, давайте обучим случайный лес на изначальном наборе данных с сильным дисбалансом классов.\n",
        "\n",
        "**4. Применение Random Forest**\n",
        "\n",
        "Выбор такого алгоритма не случаен, в приведенных выше источниках говориться о том что методы основанные на применении решающих деревьев и ансамблей не чувствительны к дисбалансу данных. В этом смысле случайный лес дважды не чувствителен. Давайте посмотрим насколько хорошо он работает."
      ]
    },
    {
      "cell_type": "code",
      "metadata": {
        "id": "oNNe9rn7HoPV",
        "colab_type": "code",
        "outputId": "7d0851e5-4a54-4f7e-acf8-a66c10923635",
        "colab": {
          "base_uri": "https://localhost:8080/",
          "height": 364
        }
      },
      "source": [
        "from sklearn.ensemble import RandomForestClassifier\n",
        "\n",
        "rf_clf=RandomForestClassifier(random_state=27).fit(X_train, y_train)\n",
        "rf_pred=rf_clf.predict(X_test)\n",
        "\n",
        "display_simple_metrics(y_test, rf_pred)"
      ],
      "execution_count": 0,
      "outputs": [
        {
          "output_type": "display_data",
          "data": {
            "image/png": "[encoded data removed]",
            "text/plain": [
              "<Figure size 432x288 with 2 Axes>"
            ]
          },
          "metadata": {
            "tags": []
          }
        },
        {
          "output_type": "stream",
          "text": [
            "accuracy = 0.9996137776061234\n",
            "precision = 0.9767441860465116\n",
            "recall = 0.8076923076923077\n",
            "f1 = 0.8842105263157894\n"
          ],
          "name": "stdout"
        }
      ]
    },
    {
      "cell_type": "markdown",
      "metadata": {
        "id": "DcFX1GvyIEjl",
        "colab_type": "text"
      },
      "source": [
        "Для сравнения выведем результаты логистической регрессии обученной на том же наборе данных."
      ]
    },
    {
      "cell_type": "code",
      "metadata": {
        "id": "nOtgk7qEH22m",
        "colab_type": "code",
        "outputId": "6cb8c7b6-6ef6-4217-f472-8f3e56f0cdcc",
        "colab": {
          "base_uri": "https://localhost:8080/",
          "height": 364
        }
      },
      "source": [
        "display_simple_metrics(y_test, lr_pred_0)"
      ],
      "execution_count": 0,
      "outputs": [
        {
          "output_type": "display_data",
          "data": {
            "image/png": "[encoded data removed]",
            "text/plain": [
              "<Figure size 432x288 with 2 Axes>"
            ]
          },
          "metadata": {
            "tags": []
          }
        },
        {
          "output_type": "stream",
          "text": [
            "accuracy = 0.9991046662687406\n",
            "precision = 0.8441558441558441\n",
            "recall = 0.625\n",
            "f1 = 0.7182320441988951\n"
          ],
          "name": "stdout"
        }
      ]
    },
    {
      "cell_type": "markdown",
      "metadata": {
        "id": "ngUxDmUDOFSD",
        "colab_type": "text"
      },
      "source": [
        "Видно что, применение метода случайного леса дает гораздо лучший результат, чем логистическая регрессия, и precision и recall гораздо выше, как следствие f1-мера тоже выше. Сведем в одну таблицу результаты всех обученных нами моделей, и попробуем выбрать наилучшую:\n",
        "\n",
        "Param/Clf|Dummy|lr|lr_1|lr_2|lr_3|lr_4|rf_clf\n",
        "---------|-----|----|----|----|----|----|---\n",
        "accuracy|0.998|0.999|0.97|0.981|0.996|0.983|1\n",
        "precision|0|0.844|0.051|0.078|0.285|0.089|0.977\n",
        "recall|0|0.625|0.885|0.865|0.731|0.875|0.808\n",
        "f1|0|0.718|0.097|0.143|0.41|0.162|0.884\n",
        "\n",
        "Для выбора наилучшей модели, нам требуется определится какая метрика для нас важнее, это вопрос бизнес анализа, поскольку речь идет о мошеннических операциях предположу, что нам в первую очередь хотелось бы определять их максимально точно. То есть максимизировать recall, при этом отклонение законных транзакций тоже является нежелательным, то есть снижать precision не желательно.\n",
        "В этой ситуации у нас есть два фаворита lr_1 обладает максимальным значением recall и низким precision, и rf_clf с recall немного ниже, но при этом высоким значением precision. На самом деле в любой обученной нами модели мы можем подправлять баланс precision-recall варьируя пороговое значение вероятности. Алгоритмы классификации прежде чем выдать номер класса к которому принадлежит конкретный образец, рассчитывают вероятность принадлежности образца к каждому классу, как правило это вещественное число от 0 до 1, далее если вероятность выше некоторого порогового значения (стандартно 0.5), относят образец к классу, если же ниже не относят. Таким образом если для нашего классификатора rf_clf мы снизим пороговое значение то параметр recall вырастет, а precision упадет, зависимость precision-recall не подчиняется какому то очевидному правилу. Рассмотрим еще пару метрик часто используемых при выборе моделей.\n",
        "\n",
        "Одним из способов оценить модель в целом, не привязываясь к конкретному порогу, является AUC-ROC (или ROC AUC) — площадь (Area Under Curve) под кривой ошибок (Receiver Operating Characteristic curve ). Данная кривая представляет из себя линию от (0,0) до (1,1) в координатах True Positive Rate (TPR) и False Positive Rate (FPR):\n",
        "\n",
        "$$TPR={TP\\over{TP+FN}}$$\n",
        "\n",
        "$$FPR={FP\\over{FP+TN}}$$\n",
        "\n",
        "Кривая строится следующим образом, выбирается набор значений порога вероятности, для каждого порога рассчитывается TPR и FPR, которые наносятся на график и соединяются линиями с соседними точками. В идеальном случае, когда классификатор не делает ошибок (FPR = 0, TPR = 1) мы получим площадь под кривой, равную единице; в противном случае, когда классификатор случайно выдает вероятности классов, AUC-ROC будет стремиться к 0.5, так как классификатор будет выдавать одинаковое количество TP и FP. Площадь под кривой в данном случае показывает качество алгоритма (больше — лучше), кроме этого, важной является крутизна самой кривой — мы хотим максимизировать TPR, минимизируя FPR, а значит, наша кривая в идеале должна стремиться к точке (0,1). Давайте построим такие кривые для наших моделей:"
      ]
    },
    {
      "cell_type": "code",
      "metadata": {
        "id": "Th5hocuWR4EE",
        "colab_type": "code",
        "outputId": "b1cabe72-8d10-41f0-818b-048c5e2f9dc0",
        "colab": {
          "base_uri": "https://localhost:8080/",
          "height": 295
        }
      },
      "source": [
        "from sklearn.metrics import roc_curve, auc\n",
        "\n",
        "fpr_0, tpr_0, thresholds_0 = roc_curve(y_test, lr.predict_proba(X_test)[:,1])\n",
        "fpr_1, tpr_1, thresholds_1 = roc_curve(y_test, lr_1.predict_proba(X_test)[:,1])\n",
        "fpr_2, tpr_2, thresholds_2 = roc_curve(y_test, lr_2.predict_proba(X_test)[:,1])\n",
        "fpr_3, tpr_3, thresholds_3 = roc_curve(y_test, lr_3.predict_proba(X_test)[:,1])\n",
        "fpr_4, tpr_4, thresholds_4 = roc_curve(y_test, lr_4.predict_proba(X_test)[:,1])\n",
        "fpr_5, tpr_5, thresholds_5 = roc_curve(y_test, rf_clf.predict_proba(X_test)[:,1])\n",
        "\n",
        "roc_auc_0= auc(fpr_0, tpr_0)\n",
        "roc_auc_1= auc(fpr_1, tpr_1)\n",
        "roc_auc_2= auc(fpr_2, tpr_2)\n",
        "roc_auc_3= auc(fpr_3, tpr_3)\n",
        "roc_auc_4= auc(fpr_4, tpr_4)\n",
        "roc_auc_5= auc(fpr_5, tpr_5)\n",
        "\n",
        "plt.figure()\n",
        "\n",
        "plt.plot(fpr_0, tpr_0, label='LR_0 (ROC_AUC = %0.2f)' % roc_auc_0)\n",
        "plt.plot(fpr_1, tpr_1, label='LR_1 (ROC_AUC = %0.2f)' % roc_auc_1)\n",
        "plt.plot(fpr_2, tpr_2, label='LR_2 (ROC_AUC = %0.2f)' % roc_auc_2)\n",
        "plt.plot(fpr_3, tpr_3, label='LR_3 (ROC_AUC = %0.2f)' % roc_auc_3)\n",
        "plt.plot(fpr_4, tpr_4, label='LR_4 (ROC_AUC = %0.2f)' % roc_auc_4)\n",
        "plt.plot(fpr_5, tpr_5, label='RF (ROC_AUC = %0.2f)' % roc_auc_5)\n",
        "\n",
        "plt.plot([0, 1], [0, 1], linestyle='--')\n",
        "plt.xlim([0.0, 1.0])\n",
        "plt.ylim([0.0, 1.05])\n",
        "plt.xlabel('False Positive Rate')\n",
        "plt.ylabel('True Positive Rate')\n",
        "plt.title('Receiver operating characteristic')\n",
        "plt.legend(loc=\"lower right\")\n",
        "plt.show()\n"
      ],
      "execution_count": 0,
      "outputs": [
        {
          "output_type": "display_data",
          "data": {
            "image/png": "[encoded data removed]",
            "text/plain": [
              "<Figure size 432x288 with 1 Axes>"
            ]
          },
          "metadata": {
            "tags": []
          }
        }
      ]
    },
    {
      "cell_type": "markdown",
      "metadata": {
        "id": "zDXyIwPzgeMK",
        "colab_type": "text"
      },
      "source": [
        "Значения критерия AUC-ROC близки для всех обученных нами моделей, и максимальны для моделей в которых мы использовали ресэмплинг добиваясь соотношения классов 1:1.\n",
        "\n",
        "Критерий AUC-ROC считается устойчивым к несбалансированным классам, но тут есть ньюансы.  AUC-ROC измеряет долю False Positive относительно True Negative и в задачах с сильным дисбалансом классов, где нам не так важен второй (больший) класс, может давать не совсем адекватную картину при сравнении алгоритмов (https://habr.com/ru/company/ods/blog/328372/). В этой ситуации используя тот же алгоритм лучше построить кривую в координатах precision-recall и посчитать площадь под ней. Сделаем это для наших моделей."
      ]
    },
    {
      "cell_type": "code",
      "metadata": {
        "id": "jAljsXSPbfen",
        "colab_type": "code",
        "outputId": "b148344d-a0ee-409c-d1de-b4273a5a5957",
        "colab": {
          "base_uri": "https://localhost:8080/",
          "height": 295
        }
      },
      "source": [
        "from sklearn.metrics import precision_recall_curve\n",
        "from sklearn.metrics import average_precision_score\n",
        "\n",
        "precision_0, recall_0, thresholds_0 = precision_recall_curve(y_test, lr.predict_proba(X_test)[:,1])\n",
        "precision_1, recall_1, thresholds_1 = precision_recall_curve(y_test, lr_1.predict_proba(X_test)[:,1])\n",
        "precision_2, recall_2, thresholds_2 = precision_recall_curve(y_test, lr_2.predict_proba(X_test)[:,1])\n",
        "precision_3, recall_3, thresholds_3 = precision_recall_curve(y_test, lr_3.predict_proba(X_test)[:,1])\n",
        "precision_4, recall_4, thresholds_4 = precision_recall_curve(y_test, lr_4.predict_proba(X_test)[:,1])\n",
        "precision_5, recall_5, thresholds_5 = precision_recall_curve(y_test, rf_clf.predict_proba(X_test)[:,1])\n",
        "\n",
        "avg_prec_score_0= average_precision_score(y_test, lr.predict_proba(X_test)[:,1])\n",
        "avg_prec_score_1= average_precision_score(y_test, lr_1.predict_proba(X_test)[:,1])\n",
        "avg_prec_score_2= average_precision_score(y_test, lr_2.predict_proba(X_test)[:,1])\n",
        "avg_prec_score_3= average_precision_score(y_test, lr_3.predict_proba(X_test)[:,1])\n",
        "avg_prec_score_4= average_precision_score(y_test, lr_4.predict_proba(X_test)[:,1])\n",
        "avg_prec_score_5= average_precision_score(y_test, rf_clf.predict_proba(X_test)[:,1])\n",
        "\n",
        "plt.figure()\n",
        "\n",
        "plt.plot(recall_0, precision_0, label='LR_0 (APS = %0.2f)' % avg_prec_score_0)\n",
        "plt.plot(recall_1, precision_1, label='LR_1 (APS = %0.2f)' % avg_prec_score_1)\n",
        "plt.plot(recall_2, precision_2, label='LR_2 (APS = %0.2f)' % avg_prec_score_2)\n",
        "plt.plot(recall_3, precision_3, label='LR_3 (APS = %0.2f)' % avg_prec_score_3)\n",
        "plt.plot(recall_4, precision_4, label='LR_4 (APS = %0.2f)' % avg_prec_score_4)\n",
        "plt.plot(recall_5, precision_5, label='RF (APS = %0.2f)' % avg_prec_score_5)\n",
        "\n",
        "plt.plot([0, 1], [0, 1], linestyle='--')\n",
        "plt.xlim([0.0, 1.0])\n",
        "plt.ylim([0.0, 1.05])\n",
        "plt.xlabel('Recall')\n",
        "plt.ylabel('Precision')\n",
        "plt.title('Precision recall curve')\n",
        "plt.legend(loc=\"lower left\")\n",
        "plt.show()"
      ],
      "execution_count": 0,
      "outputs": [
        {
          "output_type": "display_data",
          "data": {
            "image/png": "[encoded data removed]",
            "text/plain": [
              "<Figure size 432x288 with 1 Axes>"
            ]
          },
          "metadata": {
            "tags": []
          }
        }
      ]
    },
    {
      "cell_type": "markdown",
      "metadata": {
        "id": "IaCcqzo_jIFo",
        "colab_type": "text"
      },
      "source": [
        "По критерию AUC_PR и average_precision_score, что примерно тоже самое, фаворитом является классификатор rf_clf. Кроме того из этого рисунка видно, что подобрав нужным образом пороговое значение вероятности для этой модели, можно добиться значения precision близкого к 0.95 при recall чуть выше 0.8. А именно precision=0.945, recall=0.827, threshold=0.36. Или precision=0.463, recall=0.846, при threshold=0.04."
      ]
    },
    {
      "cell_type": "code",
      "metadata": {
        "id": "w7ayPK9Sl_2z",
        "colab_type": "code",
        "outputId": "3f051189-e9e7-4fd2-c2bf-ace0563bbff9",
        "colab": {
          "base_uri": "https://localhost:8080/",
          "height": 969
        }
      },
      "source": [
        "for i in range(len(precision_5)-1):\n",
        "  print(precision_5[i], recall_5[i], thresholds_5[i])"
      ],
      "execution_count": 0,
      "outputs": [
        {
          "output_type": "stream",
          "text": [
            "0.0018257785892349286 1.0 0.0\n",
            "0.06433166547533953 0.8653846153846154 0.01\n",
            "0.2009132420091324 0.8461538461538461 0.02\n",
            "0.3534136546184739 0.8461538461538461 0.03\n",
            "0.4631578947368421 0.8461538461538461 0.04\n",
            "0.5471698113207547 0.8365384615384616 0.05\n",
            "0.6397058823529411 0.8365384615384616 0.06\n",
            "0.6641221374045801 0.8365384615384616 0.07\n",
            "0.6850393700787402 0.8365384615384616 0.08\n",
            "0.7372881355932204 0.8365384615384616 0.09\n",
            "0.7543859649122807 0.8269230769230769 0.1\n",
            "0.7678571428571429 0.8269230769230769 0.11\n",
            "0.7818181818181819 0.8269230769230769 0.12\n",
            "0.7962962962962963 0.8269230769230769 0.14\n",
            "0.819047619047619 0.8269230769230769 0.16\n",
            "0.8431372549019608 0.8269230769230769 0.17\n",
            "0.8514851485148515 0.8269230769230769 0.2\n",
            "0.86 0.8269230769230769 0.25\n",
            "0.8775510204081632 0.8269230769230769 0.26\n",
            "0.8958333333333334 0.8269230769230769 0.3\n",
            "0.9052631578947369 0.8269230769230769 0.32\n",
            "0.9148936170212766 0.8269230769230769 0.33\n",
            "0.9347826086956522 0.8269230769230769 0.35\n",
            "0.945054945054945 0.8269230769230769 0.36\n",
            "0.9550561797752809 0.8173076923076923 0.38\n",
            "0.9659090909090909 0.8173076923076923 0.42\n",
            "0.9770114942528736 0.8173076923076923 0.44\n",
            "0.9767441860465116 0.8076923076923077 0.51\n",
            "0.9764705882352941 0.7980769230769231 0.54\n",
            "0.9761904761904762 0.7884615384615384 0.61\n",
            "0.9759036144578314 0.7788461538461539 0.62\n",
            "0.975609756097561 0.7692307692307693 0.63\n",
            "0.975 0.75 0.68\n",
            "0.9746835443037974 0.7403846153846154 0.69\n",
            "0.9871794871794872 0.7403846153846154 0.76\n",
            "0.987012987012987 0.7307692307692307 0.77\n",
            "0.9866666666666667 0.7115384615384616 0.78\n",
            "0.9864864864864865 0.7019230769230769 0.79\n",
            "0.9861111111111112 0.6826923076923077 0.8\n",
            "0.9857142857142858 0.6634615384615384 0.81\n",
            "0.9852941176470589 0.6442307692307693 0.83\n",
            "0.9850746268656716 0.6346153846153846 0.85\n",
            "0.9846153846153847 0.6153846153846154 0.87\n",
            "1.0 0.6057692307692307 0.88\n",
            "1.0 0.5961538461538461 0.89\n",
            "1.0 0.5769230769230769 0.9\n",
            "1.0 0.5673076923076923 0.91\n",
            "1.0 0.5288461538461539 0.92\n",
            "1.0 0.46153846153846156 0.93\n",
            "1.0 0.4326923076923077 0.94\n",
            "1.0 0.36538461538461536 0.95\n",
            "1.0 0.34615384615384615 0.96\n",
            "1.0 0.2980769230769231 0.97\n",
            "1.0 0.21153846153846154 0.98\n",
            "1.0 0.18269230769230768 0.99\n",
            "1.0 0.125 1.0\n"
          ],
          "name": "stdout"
        }
      ]
    },
    {
      "cell_type": "code",
      "metadata": {
        "id": "u2LSQsbZmODG",
        "colab_type": "code",
        "colab": {}
      },
      "source": [
        ""
      ],
      "execution_count": 0,
      "outputs": []
    }
  ]
}